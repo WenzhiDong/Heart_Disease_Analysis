{
  "nbformat": 4,
  "nbformat_minor": 0,
  "metadata": {
    "colab": {
      "name": "sql.ipynb",
      "provenance": [],
      "collapsed_sections": []
    },
    "kernelspec": {
      "name": "python3",
      "display_name": "Python 3"
    },
    "language_info": {
      "name": "python"
    }
  },
  "cells": [
    {
      "cell_type": "code",
      "metadata": {
        "colab": {
          "base_uri": "https://localhost:8080/"
        },
        "id": "Yu3LwTwrIJWB",
        "outputId": "68004d17-c3ca-411e-ffe6-04a7291aa123"
      },
      "source": [
        "import os\n",
        "# Find the latest version of spark 3.0  from http://www-us.apache.org/dist/spark/ and enter as the spark version\n",
        "# For example:\n",
        "# spark_version = 'spark-3.0.2'\n",
        "spark_version = 'spark-3.0.2'\n",
        "os.environ['SPARK_VERSION']=spark_version\n",
        "\n",
        "# Install Spark and Java\n",
        "!apt-get update\n",
        "!apt-get install openjdk-11-jdk-headless -qq > /dev/null\n",
        "!wget -q http://www-us.apache.org/dist/spark/$SPARK_VERSION/$SPARK_VERSION-bin-hadoop2.7.tgz\n",
        "!tar xf $SPARK_VERSION-bin-hadoop2.7.tgz\n",
        "!pip install -q findspark\n",
        "\n",
        "# Set Environment Variables\n",
        "import os\n",
        "os.environ[\"JAVA_HOME\"] = \"/usr/lib/jvm/java-11-openjdk-amd64\"\n",
        "os.environ[\"SPARK_HOME\"] = f\"/content/{spark_version}-bin-hadoop2.7\"\n",
        "\n",
        "# Start a SparkSession\n",
        "import findspark\n",
        "findspark.init()"
      ],
      "execution_count": 1,
      "outputs": [
        {
          "output_type": "stream",
          "text": [
            "\r0% [Working]\r            \rIgn:1 https://developer.download.nvidia.com/compute/cuda/repos/ubuntu1804/x86_64  InRelease\n",
            "\r0% [Connecting to archive.ubuntu.com] [Connecting to security.ubuntu.com (91.18\r                                                                               \rGet:2 https://cloud.r-project.org/bin/linux/ubuntu bionic-cran40/ InRelease [3,626 B]\n",
            "\r0% [Connecting to archive.ubuntu.com] [Connecting to security.ubuntu.com (91.18\r0% [Connecting to archive.ubuntu.com] [Connecting to security.ubuntu.com (91.18\r                                                                               \rIgn:3 https://developer.download.nvidia.com/compute/machine-learning/repos/ubuntu1804/x86_64  InRelease\n",
            "\r0% [Connecting to archive.ubuntu.com] [Waiting for headers] [Connecting to ppa.\r0% [2 InRelease gpgv 3,626 B] [Connecting to archive.ubuntu.com] [Waiting for h\r                                                                               \rHit:4 https://developer.download.nvidia.com/compute/cuda/repos/ubuntu1804/x86_64  Release\n",
            "\r0% [2 InRelease gpgv 3,626 B] [Connecting to archive.ubuntu.com] [Waiting for h\r                                                                               \rHit:5 https://developer.download.nvidia.com/compute/machine-learning/repos/ubuntu1804/x86_64  Release\n",
            "Get:6 http://security.ubuntu.com/ubuntu bionic-security InRelease [88.7 kB]\n",
            "Get:7 http://ppa.launchpad.net/c2d4u.team/c2d4u4.0+/ubuntu bionic InRelease [15.9 kB]\n",
            "Hit:8 http://archive.ubuntu.com/ubuntu bionic InRelease\n",
            "Get:9 http://archive.ubuntu.com/ubuntu bionic-updates InRelease [88.7 kB]\n",
            "Hit:12 http://ppa.launchpad.net/cran/libgit2/ubuntu bionic InRelease\n",
            "Get:13 http://archive.ubuntu.com/ubuntu bionic-backports InRelease [74.6 kB]\n",
            "Get:14 http://security.ubuntu.com/ubuntu bionic-security/main amd64 Packages [2,184 kB]\n",
            "Get:15 http://ppa.launchpad.net/deadsnakes/ppa/ubuntu bionic InRelease [15.9 kB]\n",
            "Hit:16 http://ppa.launchpad.net/graphics-drivers/ppa/ubuntu bionic InRelease\n",
            "Get:17 http://security.ubuntu.com/ubuntu bionic-security/universe amd64 Packages [1,414 kB]\n",
            "Get:18 http://security.ubuntu.com/ubuntu bionic-security/restricted amd64 Packages [450 kB]\n",
            "Get:19 http://ppa.launchpad.net/c2d4u.team/c2d4u4.0+/ubuntu bionic/main Sources [1,770 kB]\n",
            "Get:20 http://archive.ubuntu.com/ubuntu bionic-updates/universe amd64 Packages [2,184 kB]\n",
            "Get:21 http://archive.ubuntu.com/ubuntu bionic-updates/multiverse amd64 Packages [33.5 kB]\n",
            "Get:22 http://archive.ubuntu.com/ubuntu bionic-updates/restricted amd64 Packages [480 kB]\n",
            "Get:23 http://archive.ubuntu.com/ubuntu bionic-updates/main amd64 Packages [2,616 kB]\n",
            "Get:24 http://ppa.launchpad.net/c2d4u.team/c2d4u4.0+/ubuntu bionic/main amd64 Packages [906 kB]\n",
            "Get:25 http://ppa.launchpad.net/deadsnakes/ppa/ubuntu bionic/main amd64 Packages [40.9 kB]\n",
            "Fetched 12.4 MB in 4s (2,882 kB/s)\n",
            "Reading package lists... Done\n"
          ],
          "name": "stdout"
        }
      ]
    },
    {
      "cell_type": "code",
      "metadata": {
        "colab": {
          "base_uri": "https://localhost:8080/"
        },
        "id": "irRIWhevIU3d",
        "outputId": "ca6117de-dc15-414d-e37b-47f201d1b502"
      },
      "source": [
        "# Download the Postgres driver that will allow Spark to interact with Postgres.\n",
        "!wget https://jdbc.postgresql.org/download/postgresql-42.2.16.jar"
      ],
      "execution_count": 2,
      "outputs": [
        {
          "output_type": "stream",
          "text": [
            "--2021-06-06 03:34:36--  https://jdbc.postgresql.org/download/postgresql-42.2.16.jar\n",
            "Resolving jdbc.postgresql.org (jdbc.postgresql.org)... 72.32.157.228, 2001:4800:3e1:1::228\n",
            "Connecting to jdbc.postgresql.org (jdbc.postgresql.org)|72.32.157.228|:443... connected.\n",
            "HTTP request sent, awaiting response... 200 OK\n",
            "Length: 1002883 (979K) [application/java-archive]\n",
            "Saving to: ‘postgresql-42.2.16.jar’\n",
            "\n",
            "postgresql-42.2.16. 100%[===================>] 979.38K  6.07MB/s    in 0.2s    \n",
            "\n",
            "2021-06-06 03:34:37 (6.07 MB/s) - ‘postgresql-42.2.16.jar’ saved [1002883/1002883]\n",
            "\n"
          ],
          "name": "stdout"
        }
      ]
    },
    {
      "cell_type": "code",
      "metadata": {
        "id": "ds30Ug5LI3Ir"
      },
      "source": [
        "from pyspark.sql import SparkSession\n",
        "spark = SparkSession.builder.appName(\"ml\").config(\"spark.driver.extraClassPath\",\"/content/postgresql-42.2.16.jar\").getOrCreate()"
      ],
      "execution_count": 3,
      "outputs": []
    },
    {
      "cell_type": "markdown",
      "metadata": {
        "id": "-mqK7phfJATx"
      },
      "source": [
        "### Load Amazon Data into Spark DataFrame"
      ]
    },
    {
      "cell_type": "code",
      "metadata": {
        "id": "dVllrZIAI3ZU"
      },
      "source": [
        "# Read in data from S3 Buckets for patients\n",
        "from pyspark import SparkFiles\n",
        "url = \"https://yang5714-bucket.s3.amazonaws.com/patients.csv\"\n",
        "spark.sparkContext.addFile(url)\n",
        "patient_df = spark.read.csv(SparkFiles.get(\"patients.csv\"), sep=\",\", header=True)"
      ],
      "execution_count": 4,
      "outputs": []
    },
    {
      "cell_type": "code",
      "metadata": {
        "colab": {
          "base_uri": "https://localhost:8080/"
        },
        "id": "Y1to1QZJ39oA",
        "outputId": "2bc68eb5-1ca1-485c-d3df-26da5bbdf5d8"
      },
      "source": [
        "patient_df.show()"
      ],
      "execution_count": 5,
      "outputs": [
        {
          "output_type": "stream",
          "text": [
            "+----------+---+---+---+--------+----+---+-------+-------+-----+-------+-----+---+------+\n",
            "|patient_id|age|sex| cp|trestbps|chol|fbs|restecg|thalach|exang|oldpeak|slope| ca|target|\n",
            "+----------+---+---+---+--------+----+---+-------+-------+-----+-------+-----+---+------+\n",
            "|         0| 52|  1|  0|     125| 212|  0|      1|    168|    0|    1.0|    2|  2|     0|\n",
            "|         1| 53|  1|  0|     140| 203|  1|      0|    155|    1|    3.1|    0|  0|     0|\n",
            "|         2| 70|  1|  0|     145| 174|  0|      1|    125|    1|    2.6|    0|  0|     0|\n",
            "|         3| 61|  1|  0|     148| 203|  0|      1|    161|    0|    0.0|    2|  1|     0|\n",
            "|         4| 62|  0|  0|     138| 294|  1|      1|    106|    0|    1.9|    1|  3|     0|\n",
            "|         5| 58|  0|  0|     100| 248|  0|      0|    122|    0|    1.0|    1|  0|     1|\n",
            "|         6| 58|  1|  0|     114| 318|  0|      2|    140|    0|    4.4|    0|  3|     0|\n",
            "|         7| 55|  1|  0|     160| 289|  0|      0|    145|    1|    0.8|    1|  1|     0|\n",
            "|         8| 46|  1|  0|     120| 249|  0|      0|    144|    0|    0.8|    2|  0|     0|\n",
            "|         9| 54|  1|  0|     122| 286|  0|      0|    116|    1|    3.2|    1|  2|     0|\n",
            "|        10| 71|  0|  0|     112| 149|  0|      1|    125|    0|    1.6|    1|  0|     1|\n",
            "|        11| 43|  0|  0|     132| 341|  1|      0|    136|    1|    3.0|    1|  0|     0|\n",
            "|        12| 34|  0|  1|     118| 210|  0|      1|    192|    0|    0.7|    2|  0|     1|\n",
            "|        13| 51|  1|  0|     140| 298|  0|      1|    122|    1|    4.2|    1|  3|     0|\n",
            "|        14| 52|  1|  0|     128| 204|  1|      1|    156|    1|    1.0|    1|  0|     0|\n",
            "|        15| 34|  0|  1|     118| 210|  0|      1|    192|    0|    0.7|    2|  0|     1|\n",
            "|        16| 51|  0|  2|     140| 308|  0|      0|    142|    0|    1.5|    2|  1|     1|\n",
            "|        17| 54|  1|  0|     124| 266|  0|      0|    109|    1|    2.2|    1|  1|     0|\n",
            "|        18| 50|  0|  1|     120| 244|  0|      1|    162|    0|    1.1|    2|  0|     1|\n",
            "|        19| 58|  1|  2|     140| 211|  1|      0|    165|    0|    0.0|    2|  0|     1|\n",
            "+----------+---+---+---+--------+----+---+-------+-------+-----+-------+-----+---+------+\n",
            "only showing top 20 rows\n",
            "\n"
          ],
          "name": "stdout"
        }
      ]
    },
    {
      "cell_type": "code",
      "metadata": {
        "id": "6tElnSJFVbLV"
      },
      "source": [
        ""
      ],
      "execution_count": null,
      "outputs": []
    },
    {
      "cell_type": "code",
      "metadata": {
        "id": "b_kWvK3N45QP"
      },
      "source": [
        "# Read in data from S3 Buckets for chest_pain_type\n",
        "from pyspark import SparkFiles\n",
        "url = \"https://yang5714-bucket.s3.amazonaws.com/chest_pain_types.csv\"\n",
        "spark.sparkContext.addFile(url)\n",
        "cp_df = spark.read.csv(SparkFiles.get(\"chest_pain_types.csv\"), sep=\",\", header=True)"
      ],
      "execution_count": 6,
      "outputs": []
    },
    {
      "cell_type": "code",
      "metadata": {
        "colab": {
          "base_uri": "https://localhost:8080/"
        },
        "id": "9wqSylcP45jD",
        "outputId": "6288975b-3782-4119-e4a9-43760892508e"
      },
      "source": [
        "cp_df.show()"
      ],
      "execution_count": 7,
      "outputs": [
        {
          "output_type": "stream",
          "text": [
            "+---------------+\n",
            "|chest_pain_type|\n",
            "+---------------+\n",
            "|              0|\n",
            "|              1|\n",
            "|              2|\n",
            "|              3|\n",
            "+---------------+\n",
            "\n"
          ],
          "name": "stdout"
        }
      ]
    },
    {
      "cell_type": "code",
      "metadata": {
        "id": "GM3B5oNL45ny"
      },
      "source": [
        "# Read in data from S3 Buckets for restecg_types\n",
        "from pyspark import SparkFiles\n",
        "url = \"https://yang5714-bucket.s3.amazonaws.com/restecg_types.csv\"\n",
        "spark.sparkContext.addFile(url)\n",
        "restecg_df = spark.read.csv(SparkFiles.get(\"restecg_types.csv\"), sep=\",\", header=True)"
      ],
      "execution_count": 8,
      "outputs": []
    },
    {
      "cell_type": "code",
      "metadata": {
        "colab": {
          "base_uri": "https://localhost:8080/"
        },
        "id": "r2_jcwKd45sd",
        "outputId": "6915c96a-a39e-44a7-f9a0-0facd2cbf225"
      },
      "source": [
        "restecg_df.show()"
      ],
      "execution_count": 9,
      "outputs": [
        {
          "output_type": "stream",
          "text": [
            "+------------------------------------+\n",
            "|resting_electrocardiographic_results|\n",
            "+------------------------------------+\n",
            "|                                   0|\n",
            "|                                   1|\n",
            "|                                   2|\n",
            "+------------------------------------+\n",
            "\n"
          ],
          "name": "stdout"
        }
      ]
    },
    {
      "cell_type": "code",
      "metadata": {
        "id": "iwN9jnQM45xb"
      },
      "source": [
        "# Read in data from S3 Buckets for vessel_color\n",
        "from pyspark import SparkFiles\n",
        "url = \"https://yang5714-bucket.s3.amazonaws.com/vessel_color.csv\"\n",
        "spark.sparkContext.addFile(url)\n",
        "vessel_df = spark.read.csv(SparkFiles.get(\"vessel_color.csv\"), sep=\",\", header=True)"
      ],
      "execution_count": 10,
      "outputs": []
    },
    {
      "cell_type": "code",
      "metadata": {
        "colab": {
          "base_uri": "https://localhost:8080/"
        },
        "id": "z6gG8Zqh450K",
        "outputId": "925c2062-d09d-41ce-b306-ba0448b6630d"
      },
      "source": [
        "vessel_df.show()"
      ],
      "execution_count": 11,
      "outputs": [
        {
          "output_type": "stream",
          "text": [
            "+------------+\n",
            "|vessel_color|\n",
            "+------------+\n",
            "|           0|\n",
            "|           1|\n",
            "|           2|\n",
            "|           3|\n",
            "+------------+\n",
            "\n"
          ],
          "name": "stdout"
        }
      ]
    },
    {
      "cell_type": "code",
      "metadata": {
        "id": "3udkEeW25r6e"
      },
      "source": [
        "# Configure settings for RDS\n",
        "mode = \"append\"\n",
        "jdbc_url=\"jdbc:postgresql://heart-database.cuuvdeqkecxo.us-east-1.rds.amazonaws.com:5432/heart_disease\"\n",
        "config = {\"user\":\"postgres\",\n",
        "          \"password\": \"12345678\",\n",
        "          \"driver\":\"org.postgresql.Driver\"}"
      ],
      "execution_count": 14,
      "outputs": []
    },
    {
      "cell_type": "code",
      "metadata": {
        "id": "6pVPgzgtZ_Z-"
      },
      "source": [
        "# Write DataFrame to patient table in RDS\n",
        "patient_df.write.jdbc(url=jdbc_url, table='patient', mode=mode, properties=config)"
      ],
      "execution_count": 15,
      "outputs": []
    },
    {
      "cell_type": "code",
      "metadata": {
        "id": "jw36vKFAaQ37"
      },
      "source": [
        "# Write DataFrame to chest_pain table in RDS\n",
        "cp_df.write.jdbc(url=jdbc_url, table='chest_pain', mode=mode, properties=config)"
      ],
      "execution_count": 16,
      "outputs": []
    },
    {
      "cell_type": "code",
      "metadata": {
        "id": "_Ek7l18HadRO"
      },
      "source": [
        "# Write DataFrame to resting_electrocardiographic_results table in RDS\n",
        "restecg_df.write.jdbc(url=jdbc_url, table='restecg', mode=mode, properties=config)"
      ],
      "execution_count": 17,
      "outputs": []
    },
    {
      "cell_type": "code",
      "metadata": {
        "id": "q_pfjZekadWR"
      },
      "source": [
        "# Write DataFrame to vessel_color table in RDS\n",
        "vessel_df.write.jdbc(url=jdbc_url, table='vessel_color', mode=mode, properties=config)"
      ],
      "execution_count": 18,
      "outputs": []
    },
    {
      "cell_type": "code",
      "metadata": {
        "id": "VR72C7gradd5"
      },
      "source": [
        ""
      ],
      "execution_count": null,
      "outputs": []
    }
  ]
}